{
 "cells": [
  {
   "cell_type": "markdown",
   "id": "818f9bd3",
   "metadata": {},
   "source": [
    "Loading Data"
   ]
  },
  {
   "cell_type": "code",
   "execution_count": 4,
   "id": "75bd6235",
   "metadata": {},
   "outputs": [],
   "source": [
    "import pandas as pd\n",
    "\n",
    "train = pd.read_csv('train_dataset.csv')\n",
    "test = pd.read_csv('test_dataset.csv')   \n",
    "sample_submission = pd.read_csv('sample_submission.csv') "
   ]
  },
  {
   "cell_type": "markdown",
   "id": "f0e40c23",
   "metadata": {},
   "source": [
    "Understanding Data"
   ]
  },
  {
   "cell_type": "code",
   "execution_count": 5,
   "id": "5003bc47",
   "metadata": {},
   "outputs": [
    {
     "data": {
      "text/html": [
       "<div>\n",
       "<style scoped>\n",
       "    .dataframe tbody tr th:only-of-type {\n",
       "        vertical-align: middle;\n",
       "    }\n",
       "\n",
       "    .dataframe tbody tr th {\n",
       "        vertical-align: top;\n",
       "    }\n",
       "\n",
       "    .dataframe thead th {\n",
       "        text-align: right;\n",
       "    }\n",
       "</style>\n",
       "<table border=\"1\" class=\"dataframe\">\n",
       "  <thead>\n",
       "    <tr style=\"text-align: right;\">\n",
       "      <th></th>\n",
       "      <th>id</th>\n",
       "      <th>user_id</th>\n",
       "      <th>age</th>\n",
       "      <th>Gender</th>\n",
       "      <th>Date_Registered</th>\n",
       "      <th>Is_current_loyalty_program_member</th>\n",
       "      <th>loyalty_points_redeemed</th>\n",
       "      <th>loyalty_tier</th>\n",
       "      <th>Received_tier_discount_percentage</th>\n",
       "      <th>Received_card_discount_percentage</th>\n",
       "      <th>...</th>\n",
       "      <th>payment_datetime</th>\n",
       "      <th>purchased_datetime</th>\n",
       "      <th>purchase_medium</th>\n",
       "      <th>final_payment</th>\n",
       "      <th>released_date</th>\n",
       "      <th>estimated_delivery_date</th>\n",
       "      <th>received_date</th>\n",
       "      <th>shipping_method</th>\n",
       "      <th>tracking_number</th>\n",
       "      <th>customer_experience</th>\n",
       "    </tr>\n",
       "  </thead>\n",
       "  <tbody>\n",
       "    <tr>\n",
       "      <th>0</th>\n",
       "      <td>0</td>\n",
       "      <td>****589084</td>\n",
       "      <td>44</td>\n",
       "      <td>O</td>\n",
       "      <td>2020-01-01</td>\n",
       "      <td>NO</td>\n",
       "      <td>5</td>\n",
       "      <td>NaN</td>\n",
       "      <td>NaN</td>\n",
       "      <td>3.0</td>\n",
       "      <td>...</td>\n",
       "      <td>2020-01-05 22:27:16</td>\n",
       "      <td>2020-01-05 22:27:16</td>\n",
       "      <td>online</td>\n",
       "      <td>1293.00</td>\n",
       "      <td>2020-01-12</td>\n",
       "      <td>2020-01-17</td>\n",
       "      <td>2020-01-17</td>\n",
       "      <td>standard</td>\n",
       "      <td>***9AWDD64SYI</td>\n",
       "      <td>neutral</td>\n",
       "    </tr>\n",
       "    <tr>\n",
       "      <th>1</th>\n",
       "      <td>1</td>\n",
       "      <td>****494191</td>\n",
       "      <td>36</td>\n",
       "      <td>O</td>\n",
       "      <td>2020-01-04</td>\n",
       "      <td>YES</td>\n",
       "      <td>4</td>\n",
       "      <td>1.0</td>\n",
       "      <td>3.0</td>\n",
       "      <td>4.0</td>\n",
       "      <td>...</td>\n",
       "      <td>2020-01-06 00:37:51</td>\n",
       "      <td>2020-01-06 00:37:51</td>\n",
       "      <td>in-store</td>\n",
       "      <td>4522.44</td>\n",
       "      <td>2020-01-07</td>\n",
       "      <td>2020-01-12</td>\n",
       "      <td>2020-01-09</td>\n",
       "      <td>express</td>\n",
       "      <td>***3SSRORRZ0X</td>\n",
       "      <td>bad</td>\n",
       "    </tr>\n",
       "    <tr>\n",
       "      <th>2</th>\n",
       "      <td>2</td>\n",
       "      <td>****216469</td>\n",
       "      <td>40</td>\n",
       "      <td>F</td>\n",
       "      <td>2020-01-02</td>\n",
       "      <td>NO</td>\n",
       "      <td>3</td>\n",
       "      <td>NaN</td>\n",
       "      <td>NaN</td>\n",
       "      <td>3.0</td>\n",
       "      <td>...</td>\n",
       "      <td>2020-01-07 03:02:35</td>\n",
       "      <td>2020-01-07 03:02:35</td>\n",
       "      <td>online</td>\n",
       "      <td>5628.00</td>\n",
       "      <td>2020-01-12</td>\n",
       "      <td>2020-01-18</td>\n",
       "      <td>2020-01-18</td>\n",
       "      <td>express</td>\n",
       "      <td>***2VSB7MH7FN</td>\n",
       "      <td>good</td>\n",
       "    </tr>\n",
       "    <tr>\n",
       "      <th>3</th>\n",
       "      <td>3</td>\n",
       "      <td>****707170</td>\n",
       "      <td>33</td>\n",
       "      <td>M</td>\n",
       "      <td>2020-01-06</td>\n",
       "      <td>YES</td>\n",
       "      <td>1</td>\n",
       "      <td>1.0</td>\n",
       "      <td>3.0</td>\n",
       "      <td>2.0</td>\n",
       "      <td>...</td>\n",
       "      <td>2020-01-09 22:05:39</td>\n",
       "      <td>2020-01-09 22:05:39</td>\n",
       "      <td>in-store</td>\n",
       "      <td>2073.32</td>\n",
       "      <td>2020-01-13</td>\n",
       "      <td>2020-01-15</td>\n",
       "      <td>2020-01-17</td>\n",
       "      <td>express</td>\n",
       "      <td>***9XENHE2PKZ</td>\n",
       "      <td>bad</td>\n",
       "    </tr>\n",
       "    <tr>\n",
       "      <th>4</th>\n",
       "      <td>4</td>\n",
       "      <td>****066329</td>\n",
       "      <td>43</td>\n",
       "      <td>O</td>\n",
       "      <td>2020-01-06</td>\n",
       "      <td>YES</td>\n",
       "      <td>1</td>\n",
       "      <td>1.0</td>\n",
       "      <td>3.0</td>\n",
       "      <td>4.0</td>\n",
       "      <td>...</td>\n",
       "      <td>2020-01-11 08:32:22</td>\n",
       "      <td>2020-01-11 08:32:22</td>\n",
       "      <td>online</td>\n",
       "      <td>310.86</td>\n",
       "      <td>2020-01-15</td>\n",
       "      <td>2020-01-22</td>\n",
       "      <td>2020-01-20</td>\n",
       "      <td>express</td>\n",
       "      <td>***QTWLMEL0PE</td>\n",
       "      <td>bad</td>\n",
       "    </tr>\n",
       "    <tr>\n",
       "      <th>...</th>\n",
       "      <td>...</td>\n",
       "      <td>...</td>\n",
       "      <td>...</td>\n",
       "      <td>...</td>\n",
       "      <td>...</td>\n",
       "      <td>...</td>\n",
       "      <td>...</td>\n",
       "      <td>...</td>\n",
       "      <td>...</td>\n",
       "      <td>...</td>\n",
       "      <td>...</td>\n",
       "      <td>...</td>\n",
       "      <td>...</td>\n",
       "      <td>...</td>\n",
       "      <td>...</td>\n",
       "      <td>...</td>\n",
       "      <td>...</td>\n",
       "      <td>...</td>\n",
       "      <td>...</td>\n",
       "      <td>...</td>\n",
       "      <td>...</td>\n",
       "    </tr>\n",
       "    <tr>\n",
       "      <th>206964</th>\n",
       "      <td>206964</td>\n",
       "      <td>****708759</td>\n",
       "      <td>19</td>\n",
       "      <td>M</td>\n",
       "      <td>2024-12-18</td>\n",
       "      <td>NO</td>\n",
       "      <td>4</td>\n",
       "      <td>NaN</td>\n",
       "      <td>NaN</td>\n",
       "      <td>3.0</td>\n",
       "      <td>...</td>\n",
       "      <td>2024-12-28 23:51:36</td>\n",
       "      <td>2024-12-28 23:51:36</td>\n",
       "      <td>online</td>\n",
       "      <td>5533.00</td>\n",
       "      <td>2024-12-31</td>\n",
       "      <td>2025-01-02</td>\n",
       "      <td>2024-12-31</td>\n",
       "      <td>standard</td>\n",
       "      <td>***OD1GASFD9M</td>\n",
       "      <td>bad</td>\n",
       "    </tr>\n",
       "    <tr>\n",
       "      <th>206965</th>\n",
       "      <td>206965</td>\n",
       "      <td>****074598</td>\n",
       "      <td>54</td>\n",
       "      <td>M</td>\n",
       "      <td>2024-12-27</td>\n",
       "      <td>NO</td>\n",
       "      <td>2</td>\n",
       "      <td>NaN</td>\n",
       "      <td>NaN</td>\n",
       "      <td>1.0</td>\n",
       "      <td>...</td>\n",
       "      <td>2024-12-28 23:54:24</td>\n",
       "      <td>2024-12-28 23:54:24</td>\n",
       "      <td>online</td>\n",
       "      <td>4910.00</td>\n",
       "      <td>2024-12-30</td>\n",
       "      <td>2025-01-01</td>\n",
       "      <td>2025-01-02</td>\n",
       "      <td>standard</td>\n",
       "      <td>***TGSHGSXIL3</td>\n",
       "      <td>bad</td>\n",
       "    </tr>\n",
       "    <tr>\n",
       "      <th>206966</th>\n",
       "      <td>206966</td>\n",
       "      <td>****016861</td>\n",
       "      <td>25</td>\n",
       "      <td>O</td>\n",
       "      <td>2024-12-02</td>\n",
       "      <td>YES</td>\n",
       "      <td>4</td>\n",
       "      <td>4.0</td>\n",
       "      <td>10.0</td>\n",
       "      <td>4.0</td>\n",
       "      <td>...</td>\n",
       "      <td>2024-12-28 23:57:17</td>\n",
       "      <td>2024-12-28 23:57:17</td>\n",
       "      <td>in-store</td>\n",
       "      <td>4558.99</td>\n",
       "      <td>2025-01-04</td>\n",
       "      <td>2025-01-11</td>\n",
       "      <td>2025-01-10</td>\n",
       "      <td>express</td>\n",
       "      <td>***0C2DHORJKD</td>\n",
       "      <td>bad</td>\n",
       "    </tr>\n",
       "    <tr>\n",
       "      <th>206967</th>\n",
       "      <td>206967</td>\n",
       "      <td>****741534</td>\n",
       "      <td>54</td>\n",
       "      <td>M</td>\n",
       "      <td>2024-12-12</td>\n",
       "      <td>NO</td>\n",
       "      <td>0</td>\n",
       "      <td>NaN</td>\n",
       "      <td>NaN</td>\n",
       "      <td>NaN</td>\n",
       "      <td>...</td>\n",
       "      <td>2024-12-28 23:57:28</td>\n",
       "      <td>2024-12-28 23:57:28</td>\n",
       "      <td>online</td>\n",
       "      <td>8900.00</td>\n",
       "      <td>2024-12-30</td>\n",
       "      <td>2025-01-04</td>\n",
       "      <td>2025-01-06</td>\n",
       "      <td>standard</td>\n",
       "      <td>***AXVOZIFGOZ</td>\n",
       "      <td>good</td>\n",
       "    </tr>\n",
       "    <tr>\n",
       "      <th>206968</th>\n",
       "      <td>206968</td>\n",
       "      <td>****773537</td>\n",
       "      <td>35</td>\n",
       "      <td>F</td>\n",
       "      <td>2024-11-23</td>\n",
       "      <td>YES</td>\n",
       "      <td>4</td>\n",
       "      <td>2.0</td>\n",
       "      <td>5.0</td>\n",
       "      <td>NaN</td>\n",
       "      <td>...</td>\n",
       "      <td>2024-12-28 23:59:39</td>\n",
       "      <td>2024-12-28 23:59:39</td>\n",
       "      <td>in-store</td>\n",
       "      <td>6829.00</td>\n",
       "      <td>2024-12-30</td>\n",
       "      <td>2025-01-01</td>\n",
       "      <td>2024-12-29</td>\n",
       "      <td>express</td>\n",
       "      <td>***ZBDMJYJYVD</td>\n",
       "      <td>good</td>\n",
       "    </tr>\n",
       "  </tbody>\n",
       "</table>\n",
       "<p>206969 rows × 26 columns</p>\n",
       "</div>"
      ],
      "text/plain": [
       "            id     user_id  age Gender Date_Registered  \\\n",
       "0            0  ****589084   44      O      2020-01-01   \n",
       "1            1  ****494191   36      O      2020-01-04   \n",
       "2            2  ****216469   40      F      2020-01-02   \n",
       "3            3  ****707170   33      M      2020-01-06   \n",
       "4            4  ****066329   43      O      2020-01-06   \n",
       "...        ...         ...  ...    ...             ...   \n",
       "206964  206964  ****708759   19      M      2024-12-18   \n",
       "206965  206965  ****074598   54      M      2024-12-27   \n",
       "206966  206966  ****016861   25      O      2024-12-02   \n",
       "206967  206967  ****741534   54      M      2024-12-12   \n",
       "206968  206968  ****773537   35      F      2024-11-23   \n",
       "\n",
       "       Is_current_loyalty_program_member  loyalty_points_redeemed  \\\n",
       "0                                     NO                        5   \n",
       "1                                    YES                        4   \n",
       "2                                     NO                        3   \n",
       "3                                    YES                        1   \n",
       "4                                    YES                        1   \n",
       "...                                  ...                      ...   \n",
       "206964                                NO                        4   \n",
       "206965                                NO                        2   \n",
       "206966                               YES                        4   \n",
       "206967                                NO                        0   \n",
       "206968                               YES                        4   \n",
       "\n",
       "        loyalty_tier  Received_tier_discount_percentage  \\\n",
       "0                NaN                                NaN   \n",
       "1                1.0                                3.0   \n",
       "2                NaN                                NaN   \n",
       "3                1.0                                3.0   \n",
       "4                1.0                                3.0   \n",
       "...              ...                                ...   \n",
       "206964           NaN                                NaN   \n",
       "206965           NaN                                NaN   \n",
       "206966           4.0                               10.0   \n",
       "206967           NaN                                NaN   \n",
       "206968           2.0                                5.0   \n",
       "\n",
       "        Received_card_discount_percentage  ...     payment_datetime  \\\n",
       "0                                     3.0  ...  2020-01-05 22:27:16   \n",
       "1                                     4.0  ...  2020-01-06 00:37:51   \n",
       "2                                     3.0  ...  2020-01-07 03:02:35   \n",
       "3                                     2.0  ...  2020-01-09 22:05:39   \n",
       "4                                     4.0  ...  2020-01-11 08:32:22   \n",
       "...                                   ...  ...                  ...   \n",
       "206964                                3.0  ...  2024-12-28 23:51:36   \n",
       "206965                                1.0  ...  2024-12-28 23:54:24   \n",
       "206966                                4.0  ...  2024-12-28 23:57:17   \n",
       "206967                                NaN  ...  2024-12-28 23:57:28   \n",
       "206968                                NaN  ...  2024-12-28 23:59:39   \n",
       "\n",
       "         purchased_datetime  purchase_medium final_payment released_date  \\\n",
       "0       2020-01-05 22:27:16           online       1293.00    2020-01-12   \n",
       "1       2020-01-06 00:37:51         in-store       4522.44    2020-01-07   \n",
       "2       2020-01-07 03:02:35           online       5628.00    2020-01-12   \n",
       "3       2020-01-09 22:05:39         in-store       2073.32    2020-01-13   \n",
       "4       2020-01-11 08:32:22           online        310.86    2020-01-15   \n",
       "...                     ...              ...           ...           ...   \n",
       "206964  2024-12-28 23:51:36           online       5533.00    2024-12-31   \n",
       "206965  2024-12-28 23:54:24           online       4910.00    2024-12-30   \n",
       "206966  2024-12-28 23:57:17         in-store       4558.99    2025-01-04   \n",
       "206967  2024-12-28 23:57:28           online       8900.00    2024-12-30   \n",
       "206968  2024-12-28 23:59:39         in-store       6829.00    2024-12-30   \n",
       "\n",
       "       estimated_delivery_date received_date shipping_method tracking_number  \\\n",
       "0                   2020-01-17    2020-01-17        standard   ***9AWDD64SYI   \n",
       "1                   2020-01-12    2020-01-09         express   ***3SSRORRZ0X   \n",
       "2                   2020-01-18    2020-01-18         express   ***2VSB7MH7FN   \n",
       "3                   2020-01-15    2020-01-17         express   ***9XENHE2PKZ   \n",
       "4                   2020-01-22    2020-01-20         express   ***QTWLMEL0PE   \n",
       "...                        ...           ...             ...             ...   \n",
       "206964              2025-01-02    2024-12-31        standard   ***OD1GASFD9M   \n",
       "206965              2025-01-01    2025-01-02        standard   ***TGSHGSXIL3   \n",
       "206966              2025-01-11    2025-01-10         express   ***0C2DHORJKD   \n",
       "206967              2025-01-04    2025-01-06        standard   ***AXVOZIFGOZ   \n",
       "206968              2025-01-01    2024-12-29         express   ***ZBDMJYJYVD   \n",
       "\n",
       "        customer_experience  \n",
       "0                   neutral  \n",
       "1                       bad  \n",
       "2                      good  \n",
       "3                       bad  \n",
       "4                       bad  \n",
       "...                     ...  \n",
       "206964                  bad  \n",
       "206965                  bad  \n",
       "206966                  bad  \n",
       "206967                 good  \n",
       "206968                 good  \n",
       "\n",
       "[206969 rows x 26 columns]"
      ]
     },
     "execution_count": 5,
     "metadata": {},
     "output_type": "execute_result"
    }
   ],
   "source": [
    "train"
   ]
  },
  {
   "cell_type": "code",
   "execution_count": 6,
   "id": "5b0b503b",
   "metadata": {},
   "outputs": [
    {
     "data": {
      "text/plain": [
       "id                                       int64\n",
       "user_id                                 object\n",
       "age                                      int64\n",
       "Gender                                  object\n",
       "Date_Registered                         object\n",
       "Is_current_loyalty_program_member       object\n",
       "loyalty_points_redeemed                  int64\n",
       "loyalty_tier                           float64\n",
       "Received_tier_discount_percentage      float64\n",
       "Received_card_discount_percentage      float64\n",
       "Received_coupon_discount_percentage      int64\n",
       "product_category                        object\n",
       "Product_value                            int64\n",
       "transaction_id                          object\n",
       "order_id                                object\n",
       "payment_method                          object\n",
       "payment_datetime                        object\n",
       "purchased_datetime                      object\n",
       "purchase_medium                         object\n",
       "final_payment                          float64\n",
       "released_date                           object\n",
       "estimated_delivery_date                 object\n",
       "received_date                           object\n",
       "shipping_method                         object\n",
       "tracking_number                         object\n",
       "customer_experience                     object\n",
       "dtype: object"
      ]
     },
     "execution_count": 6,
     "metadata": {},
     "output_type": "execute_result"
    }
   ],
   "source": [
    "train.dtypes"
   ]
  },
  {
   "cell_type": "code",
   "execution_count": 7,
   "id": "ad315693",
   "metadata": {},
   "outputs": [
    {
     "data": {
      "text/plain": [
       "id                                          0\n",
       "user_id                                     0\n",
       "age                                         0\n",
       "Gender                                      0\n",
       "Date_Registered                             0\n",
       "Is_current_loyalty_program_member           0\n",
       "loyalty_points_redeemed                     0\n",
       "loyalty_tier                           102067\n",
       "Received_tier_discount_percentage      103379\n",
       "Received_card_discount_percentage      156879\n",
       "Received_coupon_discount_percentage         0\n",
       "product_category                            0\n",
       "Product_value                               0\n",
       "transaction_id                              0\n",
       "order_id                                    0\n",
       "payment_method                              0\n",
       "payment_datetime                            0\n",
       "purchased_datetime                          0\n",
       "purchase_medium                             0\n",
       "final_payment                               0\n",
       "released_date                               0\n",
       "estimated_delivery_date                     0\n",
       "received_date                               0\n",
       "shipping_method                             0\n",
       "tracking_number                             0\n",
       "customer_experience                         0\n",
       "dtype: int64"
      ]
     },
     "execution_count": 7,
     "metadata": {},
     "output_type": "execute_result"
    }
   ],
   "source": [
    "train.isnull().sum()"
   ]
  },
  {
   "cell_type": "code",
   "execution_count": 8,
   "metadata": {},
   "outputs": [
    {
     "data": {
      "text/plain": [
       "customer_experience\n",
       "good       91388\n",
       "bad        68538\n",
       "neutral    47043\n",
       "Name: count, dtype: int64"
      ]
     },
     "execution_count": 8,
     "metadata": {},
     "output_type": "execute_result"
    }
   ],
   "source": [
    "train['customer_experience'].value_counts()"
   ]
  },
  {
   "cell_type": "markdown",
   "id": "30c4ca0a",
   "metadata": {},
   "source": [
    "Data Cleaning"
   ]
  },
  {
   "cell_type": "code",
   "execution_count": 9,
   "id": "8b5d18fc",
   "metadata": {},
   "outputs": [],
   "source": [
    "train['Date_Registered'] = pd.to_datetime(train['Date_Registered'])\n",
    "train['payment_datetime'] = pd.to_datetime(train['payment_datetime'])\n",
    "train['purchased_datetime'] = pd.to_datetime(train['purchased_datetime'])\n",
    "train['released_date'] = pd.to_datetime(train['released_date'])\n",
    "train['estimated_delivery_date'] = pd.to_datetime(train['estimated_delivery_date'])\n",
    "train['received_date'] = pd.to_datetime(train['received_date'])"
   ]
  },
  {
   "cell_type": "code",
   "execution_count": 10,
   "id": "80f7ef7e",
   "metadata": {},
   "outputs": [
    {
     "data": {
      "text/plain": [
       "id                                              int64\n",
       "user_id                                        object\n",
       "age                                             int64\n",
       "Gender                                         object\n",
       "Date_Registered                        datetime64[ns]\n",
       "Is_current_loyalty_program_member              object\n",
       "loyalty_points_redeemed                         int64\n",
       "loyalty_tier                                  float64\n",
       "Received_tier_discount_percentage             float64\n",
       "Received_card_discount_percentage             float64\n",
       "Received_coupon_discount_percentage             int64\n",
       "product_category                               object\n",
       "Product_value                                   int64\n",
       "transaction_id                                 object\n",
       "order_id                                       object\n",
       "payment_method                                 object\n",
       "payment_datetime                       datetime64[ns]\n",
       "purchased_datetime                     datetime64[ns]\n",
       "purchase_medium                                object\n",
       "final_payment                                 float64\n",
       "released_date                          datetime64[ns]\n",
       "estimated_delivery_date                datetime64[ns]\n",
       "received_date                          datetime64[ns]\n",
       "shipping_method                                object\n",
       "tracking_number                                object\n",
       "customer_experience                            object\n",
       "dtype: object"
      ]
     },
     "execution_count": 10,
     "metadata": {},
     "output_type": "execute_result"
    }
   ],
   "source": [
    "train.dtypes"
   ]
  },
  {
   "cell_type": "markdown",
   "id": "41c726a0",
   "metadata": {},
   "source": [
    "Adding new features"
   ]
  },
  {
   "cell_type": "code",
   "execution_count": 11,
   "id": "86b76e97",
   "metadata": {},
   "outputs": [],
   "source": [
    "train['purchase_hour'] = train['payment_datetime'].dt.hour\n",
    "train['purchase_day'] = train['payment_datetime'].dt.day_name()\n",
    "train['purchase_month'] = train['payment_datetime'].dt.month\n",
    "train['days_since_registration'] = (train['purchased_datetime'] - train['Date_Registered']).dt.days\n",
    "train['estimated_delivery_day'] = train['estimated_delivery_date'].dt.day_name()\n",
    "train['received_day'] = train['received_date'].dt.day_name()"
   ]
  },
  {
   "cell_type": "code",
   "execution_count": 12,
   "id": "e18334a9",
   "metadata": {},
   "outputs": [],
   "source": [
    "# Convert date columns to Unix timestamps\n",
    "date_columns = ['Date_Registered', 'payment_datetime', 'purchased_datetime', \n",
    "                'released_date', 'estimated_delivery_date', 'received_date']\n",
    "\n",
    "for col in date_columns:\n",
    "    train[col] = pd.to_datetime(train[col], errors='coerce').astype(int) / 10**9  "
   ]
  },
  {
   "cell_type": "markdown",
   "id": "254af07f",
   "metadata": {},
   "source": [
    "Categorical Encoding"
   ]
  },
  {
   "cell_type": "code",
   "execution_count": 14,
   "id": "4de62e75",
   "metadata": {},
   "outputs": [],
   "source": [
    "train['customer_experience'] = pd.Categorical(train['customer_experience'], categories=['bad', 'neutral', 'good'], ordered=True)\n",
    "train['customer_experience'] = train['customer_experience'].cat.codes"
   ]
  },
  {
   "cell_type": "markdown",
   "id": "f1e5a509",
   "metadata": {},
   "source": [
    "One Hot Encoding"
   ]
  },
  {
   "cell_type": "code",
   "execution_count": null,
   "id": "216426fa",
   "metadata": {},
   "outputs": [],
   "source": [
    "from sklearn.preprocessing import LabelEncoder\n",
    "\n",
    "categorical_columns = [ 'Gender', 'Is_current_loyalty_program_member', \n",
    "                       'product_category',\n",
    "                       'payment_method', 'purchase_medium', 'shipping_method', 'purchase_day','estimated_delivery_day','received_day']\n",
    "\n",
    "label_encoder = LabelEncoder()\n",
    "\n",
    "for col in categorical_columns:\n",
    "    train[col] = label_encoder.fit_transform(train[col].astype(str))  # Convert categorical to numeric"
   ]
  },
  {
   "cell_type": "markdown",
   "id": "be34505d",
   "metadata": {},
   "source": [
    "Adding more new features"
   ]
  },
  {
   "cell_type": "code",
   "execution_count": 15,
   "id": "895a88e0",
   "metadata": {},
   "outputs": [],
   "source": [
    "train['Delivery_time'] = train['received_date'] - train['released_date']\n",
    "train['Delivery_delay'] = train['received_date'] - train['estimated_delivery_date']\n",
    "train['Waiting_time'] = train['received_date'] - train['payment_datetime']\n",
    "train['Additional_charge'] = train['final_payment'] - train['Product_value']\n",
    "train['Waiting_percentage'] = (train['received_date'] - train['estimated_delivery_date'])/(train['received_date'] - train['payment_datetime'])\n",
    "train['Processing_time'] = train['released_date'] - train['payment_datetime']\n",
    "train['Loyalty_engagement'] = train['loyalty_points_redeemed'] / train['Product_value']"
   ]
  },
  {
   "cell_type": "code",
   "execution_count": 16,
   "metadata": {},
   "outputs": [
    {
     "name": "stderr",
     "output_type": "stream",
     "text": [
      "C:\\Users\\PC2- Usuario\\AppData\\Local\\Temp\\ipykernel_14168\\2202553812.py:3: FutureWarning: Downcasting behavior in `replace` is deprecated and will be removed in a future version. To retain the old behavior, explicitly call `result.infer_objects(copy=False)`. To opt-in to the future behavior, set `pd.set_option('future.no_silent_downcasting', True)`\n",
      "  train.replace(r'[^0-9]+', np.nan, regex=True, inplace=True)\n"
     ]
    }
   ],
   "source": [
    "import numpy as np\n",
    "\n",
    "train.replace(r'[^0-9]+', np.nan, regex=True, inplace=True)"
   ]
  },
  {
   "cell_type": "code",
   "execution_count": null,
   "metadata": {},
   "outputs": [],
   "source": [
    "train.fillna(0, inplace=True)\n",
    "train = train.apply(pd.to_numeric)"
   ]
  },
  {
   "cell_type": "code",
   "execution_count": 19,
   "id": "f91ec468",
   "metadata": {},
   "outputs": [],
   "source": [
    "X = train.drop('customer_experience', axis=1) \n",
    "y = train['customer_experience'] "
   ]
  },
  {
   "cell_type": "code",
   "execution_count": null,
   "id": "00c35537",
   "metadata": {},
   "outputs": [],
   "source": [
    "from sklearn.feature_selection import mutual_info_classif\n",
    "\n",
    "mi_scores = mutual_info_classif(X, y,random_state=42)\n",
    "mi_scores_df = pd.DataFrame({'Feature': X.columns, 'MI Score': mi_scores})\n",
    "\n",
    "print(mi_scores_df.sort_values(by='MI Score', ascending=False))"
   ]
  },
  {
   "cell_type": "markdown",
   "id": "47ecf1f1",
   "metadata": {},
   "source": [
    "Dropping least important columns"
   ]
  },
  {
   "cell_type": "code",
   "execution_count": null,
   "id": "6aaf6aa4",
   "metadata": {},
   "outputs": [],
   "source": [
    "X = train.drop(['customer_experience','tracking_number', 'user_id', 'loyalty_tier','purchase_medium' ,'shipping_method','Gender','order_id', 'Received_tier_discount_percentage','Is_current_loyalty_program_member', 'transaction_id'],axis=1)\n",
    "y = train['customer_experience']"
   ]
  },
  {
   "cell_type": "code",
   "execution_count": null,
   "id": "65f8a82c",
   "metadata": {},
   "outputs": [],
   "source": [
    "from sklearn.model_selection import train_test_split\n",
    "\n",
    "X_train, X_test, y_train, y_test = train_test_split(X, y, test_size=0.15, random_state=42)"
   ]
  },
  {
   "cell_type": "markdown",
   "id": "29a8e52b",
   "metadata": {},
   "source": [
    "Training the model"
   ]
  },
  {
   "cell_type": "code",
   "execution_count": null,
   "metadata": {},
   "outputs": [],
   "source": [
    "from sklearn.ensemble import RandomForestClassifier\n",
    "\n",
    "# model = RandomForestClassifier(class_weight='balanced', random_state=42)\n",
    "# model = RandomForestClassifier(n_estimators=200, max_depth=None, random_state=42, class_weight='balanced')\n",
    "model = RandomForestClassifier(\n",
    "    n_estimators=300, \n",
    "    max_depth=None, \n",
    "    min_samples_split=5, \n",
    "    min_samples_leaf=2, \n",
    "    max_features='sqrt', \n",
    "    random_state=42, \n",
    "    class_weight='balanced'\n",
    ")"
   ]
  },
  {
   "cell_type": "code",
   "execution_count": null,
   "metadata": {},
   "outputs": [],
   "source": [
    "# # Define a list of hyperparameter combinations\n",
    "# param_list = [\n",
    "#     {'n_estimators': 100, 'max_depth': 10},\n",
    "#     {'n_estimators': 200, 'max_depth': None},\n",
    "#     {'n_estimators': 300, 'max_depth': 20, 'min_samples_split': 5},\n",
    "#     {'n_estimators': 100, 'max_depth': 15, 'min_samples_split': 10}\n",
    "# ]\n",
    "\n",
    "# best_model = None\n",
    "# best_score = 0\n",
    "\n",
    "# # Iterate through parameters and test each combination\n",
    "# for params in param_list:\n",
    "#     model = RandomForestClassifier(**params, class_weight='balanced', random_state=42)\n",
    "#     model.fit(X_train, y_train)\n",
    "#     y_pred = model.predict(X_test)\n",
    "#     score = accuracy_score(y_test, y_pred)\n",
    "#     print(f\"Params: {params}, Accuracy: {score}\")\n",
    "#     if score > best_score:\n",
    "#         best_model = model\n",
    "#         best_score = score\n",
    "\n",
    "# print(\"Best Parameters:\", best_model.get_params())"
   ]
  },
  {
   "cell_type": "code",
   "execution_count": null,
   "metadata": {},
   "outputs": [],
   "source": [
    "model.fit(X_train, y_train)"
   ]
  },
  {
   "cell_type": "code",
   "execution_count": null,
   "metadata": {},
   "outputs": [],
   "source": [
    "y_pred = model.predict(X_test)"
   ]
  },
  {
   "cell_type": "code",
   "execution_count": null,
   "metadata": {},
   "outputs": [],
   "source": [
    "from sklearn.metrics import classification_report, accuracy_score\n",
    "\n",
    "print(\"Accuracy:\", accuracy_score(y_test, y_pred))\n",
    "print(\"Classification Report:\\n\", classification_report(y_test, y_pred))"
   ]
  },
  {
   "cell_type": "code",
   "execution_count": null,
   "metadata": {},
   "outputs": [],
   "source": [
    "from sklearn.metrics import f1_score\n",
    "\n",
    "f1 = f1_score(y_test, y_pred, average='weighted')\n",
    "print(f'Weighted F1 Score: {f1}')"
   ]
  },
  {
   "cell_type": "code",
   "execution_count": null,
   "metadata": {},
   "outputs": [],
   "source": [
    "# import optuna\n",
    "# from lightgbm import LGBMClassifier\n",
    "# from sklearn.model_selection import cross_val_score\n",
    "\n",
    "# def objective(trial):\n",
    "#     params = {\n",
    "#         'n_estimators': trial.suggest_int('n_estimators', 100, 500),\n",
    "#         'max_depth': trial.suggest_int('max_depth', -1, 15),\n",
    "#         'learning_rate': trial.suggest_float('learning_rate', 0.01, 0.2),\n",
    "#         'num_leaves': trial.suggest_int('num_leaves', 31, 100),\n",
    "#         'feature_fraction': trial.suggest_float('feature_fraction', 0.6, 1.0),\n",
    "#         'bagging_fraction': trial.suggest_float('bagging_fraction', 0.6, 1.0),\n",
    "#         'lambda_l1': trial.suggest_float('lambda_l1', 0.0, 10.0),\n",
    "#         'lambda_l2': trial.suggest_float('lambda_l2', 0.0, 10.0),\n",
    "#     }\n",
    "\n",
    "#     model = LGBMClassifier(random_state=42, **params)\n",
    "#     scores = cross_val_score(model, X_train, y_train, cv=5, scoring='accuracy')\n",
    "#     return scores.mean()\n",
    "\n",
    "# study = optuna.create_study(direction='maximize')\n",
    "# study.optimize(objective, n_trials=20)\n",
    "\n",
    "# print(\"Best Parameters:\", study.best_params)\n",
    "# print(\"Best Score:\", study.best_value)"
   ]
  },
  {
   "cell_type": "code",
   "execution_count": null,
   "id": "2ee7745e",
   "metadata": {},
   "outputs": [],
   "source": [
    "from lightgbm import LGBMClassifier\n",
    "\n",
    "model = LGBMClassifier(\n",
    "    n_estimators=100,\n",
    "    max_depth=9,\n",
    "    learning_rate=0.1,\n",
    "    num_leaves=57,\n",
    "    feature_fraction=0.7233,\n",
    "    bagging_fraction=0.7492,\n",
    "    lambda_l1=1.9796,\n",
    "    lambda_l2=8.1072,\n",
    "    random_state=42\n",
    ")"
   ]
  },
  {
   "cell_type": "code",
   "execution_count": null,
   "metadata": {},
   "outputs": [],
   "source": [
    "model.fit(X_train, y_train)"
   ]
  },
  {
   "cell_type": "code",
   "execution_count": null,
   "id": "55e9d154",
   "metadata": {},
   "outputs": [],
   "source": [
    "y_pred = model.predict(X_test)"
   ]
  },
  {
   "cell_type": "code",
   "execution_count": null,
   "id": "34e084b4",
   "metadata": {},
   "outputs": [],
   "source": [
    "from sklearn.metrics import classification_report, accuracy_score\n",
    "\n",
    "print(\"Accuracy:\", accuracy_score(y_test, y_pred))\n",
    "print(\"Classification Report:\\n\", classification_report(y_test, y_pred))"
   ]
  },
  {
   "cell_type": "code",
   "execution_count": null,
   "metadata": {},
   "outputs": [],
   "source": [
    "from sklearn.metrics import f1_score\n",
    "\n",
    "f1 = f1_score(y_test, y_pred, average='weighted')\n",
    "print(f'Weighted F1 Score: {f1}')"
   ]
  },
  {
   "cell_type": "code",
   "execution_count": null,
   "id": "7ed363d4",
   "metadata": {},
   "outputs": [],
   "source": [
    "test"
   ]
  },
  {
   "cell_type": "code",
   "execution_count": null,
   "id": "b9338909",
   "metadata": {},
   "outputs": [],
   "source": [
    "test['Date_Registered'] = pd.to_datetime(test['Date_Registered'])\n",
    "test['payment_datetime'] = pd.to_datetime(test['payment_datetime'])\n",
    "test['purchased_datetime'] = pd.to_datetime(test['purchased_datetime'])\n",
    "test['released_date'] = pd.to_datetime(test['released_date'])\n",
    "test['estimated_delivery_date'] = pd.to_datetime(test['estimated_delivery_date'])\n",
    "test['received_date'] = pd.to_datetime(test['received_date'])"
   ]
  },
  {
   "cell_type": "code",
   "execution_count": null,
   "metadata": {},
   "outputs": [],
   "source": [
    "test['purchase_hour'] = test['payment_datetime'].dt.hour\n",
    "test['purchase_day'] = test['payment_datetime'].dt.day_name()\n",
    "test['purchase_month'] = test['payment_datetime'].dt.month\n",
    "test['days_since_registration'] = (test['purchased_datetime'] - test['Date_Registered']).dt.days\n",
    "test['estimated_delivery_day'] = test['estimated_delivery_date'].dt.day_name()\n",
    "test['received_day'] = test['received_date'].dt.day_name()"
   ]
  },
  {
   "cell_type": "code",
   "execution_count": null,
   "id": "a15a40a9",
   "metadata": {},
   "outputs": [],
   "source": [
    "date_columns = ['Date_Registered', 'payment_datetime', 'purchased_datetime', \n",
    "                'released_date', 'estimated_delivery_date', 'received_date']\n",
    "\n",
    "for col in date_columns:\n",
    "    test[col] = pd.to_datetime(test[col], errors='coerce').astype(int) / 10**9"
   ]
  },
  {
   "cell_type": "code",
   "execution_count": null,
   "id": "e1d3a1ff",
   "metadata": {},
   "outputs": [],
   "source": [
    "from sklearn.preprocessing import LabelEncoder\n",
    "\n",
    "categorical_columns = [ 'Gender', 'Is_current_loyalty_program_member', \n",
    "                       'product_category', \n",
    "                       'payment_method', 'purchase_medium', 'shipping_method', 'purchase_day','estimated_delivery_day','received_day']\n",
    "\n",
    "label_encoder = LabelEncoder()\n",
    "\n",
    "for col in categorical_columns:\n",
    "    test[col] = label_encoder.fit_transform(test[col].astype(str))"
   ]
  },
  {
   "cell_type": "code",
   "execution_count": null,
   "id": "bd1aeedc",
   "metadata": {},
   "outputs": [],
   "source": [
    "test['Delivery_time'] = test['received_date'] - test['released_date']\n",
    "test['Delivery_delay'] = test['received_date'] - test['estimated_delivery_date']\n",
    "test['Waiting_time'] = test['received_date'] - test['payment_datetime']\n",
    "test['Additional_charge'] = test['final_payment'] - test['Product_value']\n",
    "test['Waiting_percentage'] = (test['received_date'] - test['estimated_delivery_date'])/(test['received_date'] - test['payment_datetime'])\n",
    "test['Processing_time'] = test['released_date'] - test['payment_datetime']\n",
    "test['Loyalty_engagement'] = test['loyalty_points_redeemed'] / test['Product_value']"
   ]
  },
  {
   "cell_type": "code",
   "execution_count": null,
   "id": "df8ca597",
   "metadata": {},
   "outputs": [],
   "source": [
    "test.replace(r'[^0-9]+', np.nan, regex=True, inplace=True)"
   ]
  },
  {
   "cell_type": "code",
   "execution_count": null,
   "id": "50455dde",
   "metadata": {},
   "outputs": [],
   "source": [
    "test.fillna(0,inplace=True)"
   ]
  },
  {
   "cell_type": "code",
   "execution_count": null,
   "id": "d35e235a",
   "metadata": {},
   "outputs": [],
   "source": [
    "test = test.apply(pd.to_numeric)"
   ]
  },
  {
   "cell_type": "code",
   "execution_count": null,
   "id": "4ec2ff13",
   "metadata": {},
   "outputs": [],
   "source": [
    "new_test=test.drop(['tracking_number', 'user_id', 'loyalty_tier','purchase_medium' ,'shipping_method','Gender','order_id', 'Received_tier_discount_percentage', 'Is_current_loyalty_program_member', 'transaction_id'], axis=1)  "
   ]
  },
  {
   "cell_type": "code",
   "execution_count": null,
   "id": "3a707430",
   "metadata": {},
   "outputs": [],
   "source": [
    "final_model = LGBMClassifier(\n",
    "    n_estimators=100,\n",
    "    max_depth=9,\n",
    "    learning_rate=0.1,\n",
    "    num_leaves=57,\n",
    "    feature_fraction=0.7233,\n",
    "    bagging_fraction=0.7492,\n",
    "    lambda_l1=1.9796,\n",
    "    lambda_l2=8.1072,\n",
    "    random_state=42\n",
    ")"
   ]
  },
  {
   "cell_type": "code",
   "execution_count": null,
   "metadata": {},
   "outputs": [],
   "source": [
    "final_model.fit(X, y)"
   ]
  },
  {
   "cell_type": "code",
   "execution_count": null,
   "id": "d40cd595",
   "metadata": {},
   "outputs": [],
   "source": [
    "y_pred = final_model.predict(new_test)"
   ]
  },
  {
   "cell_type": "code",
   "execution_count": null,
   "id": "cf14eb09",
   "metadata": {},
   "outputs": [],
   "source": [
    "label_mapping = {0: \"bad\", 1: \"neutral\", 2: \"good\"}\n",
    "y_pred_labels = [label_mapping[label] for label in y_pred]\n",
    "\n",
    "submission = pd.DataFrame({\"id\": new_test[\"id\"], \"customer_experience\": y_pred_labels})\n",
    "submission.to_csv(\"submission.csv\", index=False)"
   ]
  },
  {
   "cell_type": "code",
   "execution_count": null,
   "metadata": {},
   "outputs": [],
   "source": [
    "submission = pd.read_csv(\"submission.csv\")"
   ]
  },
  {
   "cell_type": "code",
   "execution_count": null,
   "id": "8e938f7e",
   "metadata": {},
   "outputs": [],
   "source": [
    "submission "
   ]
  }
 ],
 "metadata": {
  "kernelspec": {
   "display_name": "Python 3",
   "language": "python",
   "name": "python3"
  },
  "language_info": {
   "codemirror_mode": {
    "name": "ipython",
    "version": 3
   },
   "file_extension": ".py",
   "mimetype": "text/x-python",
   "name": "python",
   "nbconvert_exporter": "python",
   "pygments_lexer": "ipython3",
   "version": "3.12.3"
  }
 },
 "nbformat": 4,
 "nbformat_minor": 5
}
